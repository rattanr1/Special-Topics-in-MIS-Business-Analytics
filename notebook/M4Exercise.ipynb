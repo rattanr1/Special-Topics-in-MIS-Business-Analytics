{
 "cells": [
  {
   "cell_type": "code",
   "execution_count": 1,
   "id": "c61c25ee",
   "metadata": {},
   "outputs": [],
   "source": [
    "import pandas as pd"
   ]
  },
  {
   "cell_type": "code",
   "execution_count": 2,
   "id": "af812fa6",
   "metadata": {},
   "outputs": [
    {
     "name": "stdout",
     "output_type": "stream",
     "text": [
      "0    banana\n",
      "1        42\n",
      "dtype: object\n"
     ]
    }
   ],
   "source": [
    "s = pd.Series(['banana', 42])   #creating a series. Case Sensitive\n",
    "print(s)\n",
    "\n",
    "#The result is a Series named s. "
   ]
  },
  {
   "cell_type": "code",
   "execution_count": 3,
   "id": "e05c7b16",
   "metadata": {},
   "outputs": [
    {
     "data": {
      "text/plain": [
       "pandas.core.series.Series"
      ]
     },
     "execution_count": 3,
     "metadata": {},
     "output_type": "execute_result"
    }
   ],
   "source": [
    "type(s)"
   ]
  },
  {
   "cell_type": "code",
   "execution_count": 4,
   "id": "83eb8e03",
   "metadata": {},
   "outputs": [
    {
     "data": {
      "text/plain": [
       "'banana'"
      ]
     },
     "execution_count": 4,
     "metadata": {},
     "output_type": "execute_result"
    }
   ],
   "source": [
    "s[0]    #s is the variable we create, [] means to take something out"
   ]
  },
  {
   "cell_type": "code",
   "execution_count": 5,
   "id": "1232f461",
   "metadata": {},
   "outputs": [
    {
     "data": {
      "text/html": [
       "<div>\n",
       "<style scoped>\n",
       "    .dataframe tbody tr th:only-of-type {\n",
       "        vertical-align: middle;\n",
       "    }\n",
       "\n",
       "    .dataframe tbody tr th {\n",
       "        vertical-align: top;\n",
       "    }\n",
       "\n",
       "    .dataframe thead th {\n",
       "        text-align: right;\n",
       "    }\n",
       "</style>\n",
       "<table border=\"1\" class=\"dataframe\">\n",
       "  <thead>\n",
       "    <tr style=\"text-align: right;\">\n",
       "      <th></th>\n",
       "      <th>name</th>\n",
       "      <th>occupation</th>\n",
       "      <th>dateregister</th>\n",
       "      <th>year</th>\n",
       "    </tr>\n",
       "  </thead>\n",
       "  <tbody>\n",
       "    <tr>\n",
       "      <th>c001</th>\n",
       "      <td>Rosaline Franklin</td>\n",
       "      <td>Chemist</td>\n",
       "      <td>2015-02-08</td>\n",
       "      <td>7</td>\n",
       "    </tr>\n",
       "    <tr>\n",
       "      <th>c002</th>\n",
       "      <td>William Gosset</td>\n",
       "      <td>Engineer</td>\n",
       "      <td>2021-03-25</td>\n",
       "      <td>1</td>\n",
       "    </tr>\n",
       "  </tbody>\n",
       "</table>\n",
       "</div>"
      ],
      "text/plain": [
       "                   name occupation dateregister  year\n",
       "c001  Rosaline Franklin    Chemist   2015-02-08     7\n",
       "c002     William Gosset   Engineer   2021-03-25     1"
      ]
     },
     "execution_count": 5,
     "metadata": {},
     "output_type": "execute_result"
    }
   ],
   "source": [
    "customers = pd.DataFrame({\n",
    "    'name':['Rosaline Franklin', 'William Gosset'],\n",
    "    'occupation':['Chemist', 'Engineer'],\n",
    "    'dateregister':['2015-02-08', '2021-03-25'],\n",
    "    'year':[7, 1]},\n",
    "    index=['c001', 'c002'],\n",
    "    columns=['name', 'occupation', 'dateregister', 'year']\n",
    "    \n",
    ")\n",
    "customers\n",
    "\n",
    "#For your reference, the following is the format for creating a DataFrame. (to know how DataFrame is structured) \n",
    "#  four columns here"
   ]
  },
  {
   "cell_type": "code",
   "execution_count": 6,
   "id": "9373ab06",
   "metadata": {},
   "outputs": [
    {
     "data": {
      "text/html": [
       "<div>\n",
       "<style scoped>\n",
       "    .dataframe tbody tr th:only-of-type {\n",
       "        vertical-align: middle;\n",
       "    }\n",
       "\n",
       "    .dataframe tbody tr th {\n",
       "        vertical-align: top;\n",
       "    }\n",
       "\n",
       "    .dataframe thead th {\n",
       "        text-align: right;\n",
       "    }\n",
       "</style>\n",
       "<table border=\"1\" class=\"dataframe\">\n",
       "  <thead>\n",
       "    <tr style=\"text-align: right;\">\n",
       "      <th></th>\n",
       "      <th>name</th>\n",
       "      <th>occupation</th>\n",
       "      <th>dateregister</th>\n",
       "      <th>year</th>\n",
       "    </tr>\n",
       "  </thead>\n",
       "  <tbody>\n",
       "    <tr>\n",
       "      <th>c001</th>\n",
       "      <td>Rosaline Franklin</td>\n",
       "      <td>Chemist</td>\n",
       "      <td>2015-02-08</td>\n",
       "      <td>7</td>\n",
       "    </tr>\n",
       "    <tr>\n",
       "      <th>c002</th>\n",
       "      <td>William Gosset</td>\n",
       "      <td>Engineer</td>\n",
       "      <td>2021-03-25</td>\n",
       "      <td>1</td>\n",
       "    </tr>\n",
       "    <tr>\n",
       "      <th>c003</th>\n",
       "      <td>Riyan Rattan</td>\n",
       "      <td>Student</td>\n",
       "      <td>2020-01-15</td>\n",
       "      <td>4</td>\n",
       "    </tr>\n",
       "  </tbody>\n",
       "</table>\n",
       "</div>"
      ],
      "text/plain": [
       "                   name occupation dateregister  year\n",
       "c001  Rosaline Franklin    Chemist   2015-02-08     7\n",
       "c002     William Gosset   Engineer   2021-03-25     1\n",
       "c003       Riyan Rattan    Student   2020-01-15     4"
      ]
     },
     "execution_count": 6,
     "metadata": {},
     "output_type": "execute_result"
    }
   ],
   "source": [
    "customers = pd.DataFrame({\n",
    "    'name':['Rosaline Franklin', 'William Gosset', 'Riyan Rattan'],\n",
    "    'occupation':['Chemist', 'Engineer', 'Student'],\n",
    "    'dateregister':['2015-02-08', '2021-03-25', '2020-01-15'],\n",
    "    'year':[7, 1, 4]},\n",
    "    index=['c001', 'c002', 'c003'],\n",
    "    columns=['name', 'occupation', 'dateregister', 'year']\n",
    "    \n",
    ")\n",
    "customers\n",
    "\n",
    "#  We just added a row here with my name"
   ]
  },
  {
   "cell_type": "code",
   "execution_count": 7,
   "id": "ef7013eb",
   "metadata": {},
   "outputs": [
    {
     "data": {
      "text/plain": [
       "pandas.core.frame.DataFrame"
      ]
     },
     "execution_count": 7,
     "metadata": {},
     "output_type": "execute_result"
    }
   ],
   "source": [
    "type(customers)"
   ]
  },
  {
   "cell_type": "code",
   "execution_count": 8,
   "id": "6ea36a38",
   "metadata": {},
   "outputs": [
    {
     "data": {
      "text/plain": [
       "name            object\n",
       "occupation      object\n",
       "dateregister    object\n",
       "year             int64\n",
       "dtype: object"
      ]
     },
     "execution_count": 8,
     "metadata": {},
     "output_type": "execute_result"
    }
   ],
   "source": [
    "customers.dtypes"
   ]
  },
  {
   "cell_type": "code",
   "execution_count": 9,
   "id": "b5951f8c",
   "metadata": {},
   "outputs": [
    {
     "data": {
      "text/plain": [
       "c001    Rosaline Franklin\n",
       "c002       William Gosset\n",
       "c003         Riyan Rattan\n",
       "Name: name, dtype: object"
      ]
     },
     "execution_count": 9,
     "metadata": {},
     "output_type": "execute_result"
    }
   ],
   "source": [
    "customers['name']\n",
    "\n",
    "#  takes out name column"
   ]
  },
  {
   "cell_type": "code",
   "execution_count": 10,
   "id": "9d563e72",
   "metadata": {},
   "outputs": [],
   "source": [
    "year_column = customers['year']"
   ]
  },
  {
   "cell_type": "code",
   "execution_count": 11,
   "id": "d0e6901d",
   "metadata": {},
   "outputs": [
    {
     "data": {
      "text/plain": [
       "pandas.core.series.Series"
      ]
     },
     "execution_count": 11,
     "metadata": {},
     "output_type": "execute_result"
    }
   ],
   "source": [
    "type(year_column)"
   ]
  },
  {
   "cell_type": "code",
   "execution_count": 12,
   "id": "a8f8b9aa",
   "metadata": {},
   "outputs": [
    {
     "data": {
      "text/plain": [
       "name            Riyan Rattan\n",
       "occupation           Student\n",
       "dateregister      2020-01-15\n",
       "year                       4\n",
       "Name: c003, dtype: object"
      ]
     },
     "execution_count": 12,
     "metadata": {},
     "output_type": "execute_result"
    }
   ],
   "source": [
    "third_row = customers.iloc[2]      #take the third row (2 cause start at zero! 0 is Row 1, 1 is Row 2, 2 is row 3)\n",
    "third_row\n",
    "\n",
    "            #use iloc to fetch by row index number; use iloc to get the third row (the row with your name) from customers "
   ]
  },
  {
   "cell_type": "code",
   "execution_count": 13,
   "id": "67e99981",
   "metadata": {},
   "outputs": [
    {
     "data": {
      "text/plain": [
       "name            Riyan Rattan\n",
       "occupation           Student\n",
       "dateregister      2020-01-15\n",
       "year                       4\n",
       "Name: c003, dtype: object"
      ]
     },
     "execution_count": 13,
     "metadata": {},
     "output_type": "execute_result"
    }
   ],
   "source": [
    "c003_row = customers.loc['c003']     #does not work if no put 'c003'\n",
    "c003_row                              #c003 is the same way as third_row but another way\n",
    "\n",
    "#Write codes to use loc to get the third row (the row with your name) from customers and show the result"
   ]
  },
  {
   "cell_type": "code",
   "execution_count": 14,
   "id": "1441d922",
   "metadata": {},
   "outputs": [
    {
     "data": {
      "text/plain": [
       "pandas.core.frame.DataFrame"
      ]
     },
     "execution_count": 14,
     "metadata": {},
     "output_type": "execute_result"
    }
   ],
   "source": [
    "type(customers)   #naming the type customers is, which is DataFrame"
   ]
  },
  {
   "cell_type": "code",
   "execution_count": 15,
   "id": "1185c284",
   "metadata": {},
   "outputs": [
    {
     "data": {
      "text/plain": [
       "pandas.core.series.Series"
      ]
     },
     "execution_count": 15,
     "metadata": {},
     "output_type": "execute_result"
    }
   ],
   "source": [
    "type(year_column)     #columns is a series"
   ]
  },
  {
   "cell_type": "code",
   "execution_count": 16,
   "id": "ca7e5ce1",
   "metadata": {},
   "outputs": [
    {
     "data": {
      "text/plain": [
       "pandas.core.series.Series"
      ]
     },
     "execution_count": 16,
     "metadata": {},
     "output_type": "execute_result"
    }
   ],
   "source": [
    "type(third_row)     #row is a series"
   ]
  },
  {
   "cell_type": "code",
   "execution_count": 17,
   "id": "5c86e450",
   "metadata": {},
   "outputs": [
    {
     "data": {
      "text/html": [
       "<div>\n",
       "<style scoped>\n",
       "    .dataframe tbody tr th:only-of-type {\n",
       "        vertical-align: middle;\n",
       "    }\n",
       "\n",
       "    .dataframe tbody tr th {\n",
       "        vertical-align: top;\n",
       "    }\n",
       "\n",
       "    .dataframe thead th {\n",
       "        text-align: right;\n",
       "    }\n",
       "</style>\n",
       "<table border=\"1\" class=\"dataframe\">\n",
       "  <thead>\n",
       "    <tr style=\"text-align: right;\">\n",
       "      <th></th>\n",
       "      <th>name</th>\n",
       "      <th>year</th>\n",
       "    </tr>\n",
       "  </thead>\n",
       "  <tbody>\n",
       "    <tr>\n",
       "      <th>c001</th>\n",
       "      <td>Rosaline Franklin</td>\n",
       "      <td>7</td>\n",
       "    </tr>\n",
       "    <tr>\n",
       "      <th>c002</th>\n",
       "      <td>William Gosset</td>\n",
       "      <td>1</td>\n",
       "    </tr>\n",
       "    <tr>\n",
       "      <th>c003</th>\n",
       "      <td>Riyan Rattan</td>\n",
       "      <td>4</td>\n",
       "    </tr>\n",
       "  </tbody>\n",
       "</table>\n",
       "</div>"
      ],
      "text/plain": [
       "                   name  year\n",
       "c001  Rosaline Franklin     7\n",
       "c002     William Gosset     1\n",
       "c003       Riyan Rattan     4"
      ]
     },
     "execution_count": 17,
     "metadata": {},
     "output_type": "execute_result"
    }
   ],
   "source": [
    "multi_columns = customers [['name', 'year']]\n",
    "multi_columns"
   ]
  },
  {
   "cell_type": "code",
   "execution_count": 18,
   "id": "acb077ed",
   "metadata": {},
   "outputs": [
    {
     "data": {
      "text/plain": [
       "pandas.core.frame.DataFrame"
      ]
     },
     "execution_count": 18,
     "metadata": {},
     "output_type": "execute_result"
    }
   ],
   "source": [
    "type(multi_columns)   #more than one columns = data frame"
   ]
  },
  {
   "cell_type": "code",
   "execution_count": 19,
   "id": "8888be8b",
   "metadata": {},
   "outputs": [
    {
     "data": {
      "text/plain": [
       "c001    Rosaline Franklin\n",
       "c002       William Gosset\n",
       "c003         Riyan Rattan\n",
       "Name: name, dtype: object"
      ]
     },
     "execution_count": 19,
     "metadata": {},
     "output_type": "execute_result"
    }
   ],
   "source": [
    "name_column=customers['name']\n",
    "name_column"
   ]
  },
  {
   "cell_type": "code",
   "execution_count": 37,
   "id": "d6fc1ed7",
   "metadata": {},
   "outputs": [
    {
     "data": {
      "text/plain": [
       "type[                   name\n",
       "c001  Rosaline Franklin\n",
       "c002     William Gosset\n",
       "c003       Riyan Rattan]"
      ]
     },
     "execution_count": 37,
     "metadata": {},
     "output_type": "execute_result"
    }
   ],
   "source": [
    "type[name_column]    #single brackets output different"
   ]
  },
  {
   "cell_type": "code",
   "execution_count": 21,
   "id": "ba3eb2b5",
   "metadata": {},
   "outputs": [
    {
     "data": {
      "text/html": [
       "<div>\n",
       "<style scoped>\n",
       "    .dataframe tbody tr th:only-of-type {\n",
       "        vertical-align: middle;\n",
       "    }\n",
       "\n",
       "    .dataframe tbody tr th {\n",
       "        vertical-align: top;\n",
       "    }\n",
       "\n",
       "    .dataframe thead th {\n",
       "        text-align: right;\n",
       "    }\n",
       "</style>\n",
       "<table border=\"1\" class=\"dataframe\">\n",
       "  <thead>\n",
       "    <tr style=\"text-align: right;\">\n",
       "      <th></th>\n",
       "      <th>name</th>\n",
       "    </tr>\n",
       "  </thead>\n",
       "  <tbody>\n",
       "    <tr>\n",
       "      <th>c001</th>\n",
       "      <td>Rosaline Franklin</td>\n",
       "    </tr>\n",
       "    <tr>\n",
       "      <th>c002</th>\n",
       "      <td>William Gosset</td>\n",
       "    </tr>\n",
       "    <tr>\n",
       "      <th>c003</th>\n",
       "      <td>Riyan Rattan</td>\n",
       "    </tr>\n",
       "  </tbody>\n",
       "</table>\n",
       "</div>"
      ],
      "text/plain": [
       "                   name\n",
       "c001  Rosaline Franklin\n",
       "c002     William Gosset\n",
       "c003       Riyan Rattan"
      ]
     },
     "execution_count": 21,
     "metadata": {},
     "output_type": "execute_result"
    }
   ],
   "source": [
    "name_column=customers[['name']]\n",
    "name_column"
   ]
  },
  {
   "cell_type": "code",
   "execution_count": 39,
   "id": "fd693f9b",
   "metadata": {},
   "outputs": [
    {
     "data": {
      "text/plain": [
       "pandas.core.frame.DataFrame"
      ]
     },
     "execution_count": 39,
     "metadata": {},
     "output_type": "execute_result"
    }
   ],
   "source": [
    "type(name_column)    #named it with ( )"
   ]
  },
  {
   "cell_type": "code",
   "execution_count": 23,
   "id": "e8a35e1a",
   "metadata": {},
   "outputs": [
    {
     "data": {
      "text/plain": [
       "c001    7\n",
       "c002    1\n",
       "c003    4\n",
       "Name: year, dtype: int64"
      ]
     },
     "execution_count": 23,
     "metadata": {},
     "output_type": "execute_result"
    }
   ],
   "source": [
    "year_column"
   ]
  },
  {
   "cell_type": "code",
   "execution_count": 24,
   "id": "ed46e49d",
   "metadata": {},
   "outputs": [
    {
     "data": {
      "text/plain": [
       "4.0"
      ]
     },
     "execution_count": 24,
     "metadata": {},
     "output_type": "execute_result"
    }
   ],
   "source": [
    "year_column.mean()     #12 What is the mean of year?"
   ]
  },
  {
   "cell_type": "code",
   "execution_count": 25,
   "id": "2b16cc5b",
   "metadata": {},
   "outputs": [
    {
     "data": {
      "text/plain": [
       "count    3.0\n",
       "mean     4.0\n",
       "std      3.0\n",
       "min      1.0\n",
       "25%      2.5\n",
       "50%      4.0\n",
       "75%      5.5\n",
       "max      7.0\n",
       "Name: year, dtype: float64"
      ]
     },
     "execution_count": 25,
     "metadata": {},
     "output_type": "execute_result"
    }
   ],
   "source": [
    "year_column.describe()  #13 What is the basic descriptive stats of year?\n",
    "\n",
    "#Use describe(). "
   ]
  },
  {
   "cell_type": "code",
   "execution_count": 26,
   "id": "88df9ffb",
   "metadata": {},
   "outputs": [
    {
     "data": {
      "text/plain": [
       "pandas.core.series.Series"
      ]
     },
     "execution_count": 26,
     "metadata": {},
     "output_type": "execute_result"
    }
   ],
   "source": [
    "type(year_column.describe())   #adding type(   )  tells if series or data frame"
   ]
  },
  {
   "cell_type": "code",
   "execution_count": 27,
   "id": "f9c3f33c",
   "metadata": {},
   "outputs": [
    {
     "data": {
      "text/plain": [
       "c001    7\n",
       "c002    1\n",
       "c003    4\n",
       "Name: year, dtype: int64"
      ]
     },
     "execution_count": 27,
     "metadata": {},
     "output_type": "execute_result"
    }
   ],
   "source": [
    "year_column=customers['year']          #fetch the year column\n",
    "year_column\n",
    "\n",
    "#use [] to get the year column from customers and show the result\n",
    "#[] means to take something out"
   ]
  },
  {
   "cell_type": "code",
   "execution_count": 28,
   "id": "322ac4fc",
   "metadata": {},
   "outputs": [
    {
     "data": {
      "text/html": [
       "<div>\n",
       "<style scoped>\n",
       "    .dataframe tbody tr th:only-of-type {\n",
       "        vertical-align: middle;\n",
       "    }\n",
       "\n",
       "    .dataframe tbody tr th {\n",
       "        vertical-align: top;\n",
       "    }\n",
       "\n",
       "    .dataframe thead th {\n",
       "        text-align: right;\n",
       "    }\n",
       "</style>\n",
       "<table border=\"1\" class=\"dataframe\">\n",
       "  <thead>\n",
       "    <tr style=\"text-align: right;\">\n",
       "      <th></th>\n",
       "      <th>name</th>\n",
       "      <th>occupation</th>\n",
       "      <th>dateregister</th>\n",
       "      <th>year</th>\n",
       "    </tr>\n",
       "  </thead>\n",
       "  <tbody>\n",
       "    <tr>\n",
       "      <th>c001</th>\n",
       "      <td>Rosaline Franklin</td>\n",
       "      <td>Chemist</td>\n",
       "      <td>2015-02-08</td>\n",
       "      <td>7</td>\n",
       "    </tr>\n",
       "    <tr>\n",
       "      <th>c002</th>\n",
       "      <td>William Gosset</td>\n",
       "      <td>Engineer</td>\n",
       "      <td>2021-03-25</td>\n",
       "      <td>1</td>\n",
       "    </tr>\n",
       "    <tr>\n",
       "      <th>c003</th>\n",
       "      <td>Riyan Rattan</td>\n",
       "      <td>Student</td>\n",
       "      <td>2020-01-15</td>\n",
       "      <td>4</td>\n",
       "    </tr>\n",
       "  </tbody>\n",
       "</table>\n",
       "</div>"
      ],
      "text/plain": [
       "                   name occupation dateregister  year\n",
       "c001  Rosaline Franklin    Chemist   2015-02-08     7\n",
       "c002     William Gosset   Engineer   2021-03-25     1\n",
       "c003       Riyan Rattan    Student   2020-01-15     4"
      ]
     },
     "execution_count": 28,
     "metadata": {},
     "output_type": "execute_result"
    }
   ],
   "source": [
    "customers"
   ]
  },
  {
   "cell_type": "code",
   "execution_count": 29,
   "id": "b846078a",
   "metadata": {},
   "outputs": [
    {
     "data": {
      "text/plain": [
       "name          Riyan Rattan\n",
       "occupation         Student\n",
       "Name: c003, dtype: object"
      ]
     },
     "execution_count": 29,
     "metadata": {},
     "output_type": "execute_result"
    }
   ],
   "source": [
    "customers.loc['c003', ['name', 'occupation']]"
   ]
  },
  {
   "cell_type": "code",
   "execution_count": 30,
   "id": "81af7316",
   "metadata": {},
   "outputs": [
    {
     "data": {
      "text/plain": [
       "name    Riyan Rattan\n",
       "Name: c003, dtype: object"
      ]
     },
     "execution_count": 30,
     "metadata": {},
     "output_type": "execute_result"
    }
   ],
   "source": [
    "customers.loc['c003', ['name', ]]     #notice the difference"
   ]
  },
  {
   "cell_type": "code",
   "execution_count": 31,
   "id": "9c42f316",
   "metadata": {},
   "outputs": [
    {
     "data": {
      "text/html": [
       "<div>\n",
       "<style scoped>\n",
       "    .dataframe tbody tr th:only-of-type {\n",
       "        vertical-align: middle;\n",
       "    }\n",
       "\n",
       "    .dataframe tbody tr th {\n",
       "        vertical-align: top;\n",
       "    }\n",
       "\n",
       "    .dataframe thead th {\n",
       "        text-align: right;\n",
       "    }\n",
       "</style>\n",
       "<table border=\"1\" class=\"dataframe\">\n",
       "  <thead>\n",
       "    <tr style=\"text-align: right;\">\n",
       "      <th></th>\n",
       "      <th>name</th>\n",
       "      <th>occupation</th>\n",
       "      <th>dateregister</th>\n",
       "      <th>year</th>\n",
       "    </tr>\n",
       "  </thead>\n",
       "  <tbody>\n",
       "    <tr>\n",
       "      <th>c001</th>\n",
       "      <td>Rosaline Franklin</td>\n",
       "      <td>Chemist</td>\n",
       "      <td>2015-02-08</td>\n",
       "      <td>7</td>\n",
       "    </tr>\n",
       "    <tr>\n",
       "      <th>c003</th>\n",
       "      <td>Riyan Rattan</td>\n",
       "      <td>Student</td>\n",
       "      <td>2020-01-15</td>\n",
       "      <td>4</td>\n",
       "    </tr>\n",
       "  </tbody>\n",
       "</table>\n",
       "</div>"
      ],
      "text/plain": [
       "                   name occupation dateregister  year\n",
       "c001  Rosaline Franklin    Chemist   2015-02-08     7\n",
       "c003       Riyan Rattan    Student   2020-01-15     4"
      ]
     },
     "execution_count": 31,
     "metadata": {},
     "output_type": "execute_result"
    }
   ],
   "source": [
    "customers.loc[customers['year'] >2, :]    \n",
    "                        \n",
    "                        #    customer.loc will show you the row\n",
    "                        #    within brackets can show the rows I want to show: the years greater than 2 ---the condition\n",
    "            #Boolean Subsetting: Series\n",
    "            #Write the following codes, which fetch rows with year greater than 2. Show the result of all columns. "
   ]
  },
  {
   "cell_type": "code",
   "execution_count": 32,
   "id": "f6e7acf0",
   "metadata": {},
   "outputs": [
    {
     "data": {
      "text/plain": [
       "c001     True\n",
       "c002    False\n",
       "c003     True\n",
       "Name: year, dtype: bool"
      ]
     },
     "execution_count": 32,
     "metadata": {},
     "output_type": "execute_result"
    }
   ],
   "source": [
    "customers['year']>2"
   ]
  },
  {
   "cell_type": "code",
   "execution_count": 33,
   "id": "342f7cc6",
   "metadata": {},
   "outputs": [
    {
     "data": {
      "text/html": [
       "<div>\n",
       "<style scoped>\n",
       "    .dataframe tbody tr th:only-of-type {\n",
       "        vertical-align: middle;\n",
       "    }\n",
       "\n",
       "    .dataframe tbody tr th {\n",
       "        vertical-align: top;\n",
       "    }\n",
       "\n",
       "    .dataframe thead th {\n",
       "        text-align: right;\n",
       "    }\n",
       "</style>\n",
       "<table border=\"1\" class=\"dataframe\">\n",
       "  <thead>\n",
       "    <tr style=\"text-align: right;\">\n",
       "      <th></th>\n",
       "      <th>name</th>\n",
       "      <th>occupation</th>\n",
       "      <th>dateregister</th>\n",
       "      <th>year</th>\n",
       "    </tr>\n",
       "  </thead>\n",
       "  <tbody>\n",
       "    <tr>\n",
       "      <th>c003</th>\n",
       "      <td>Riyan Rattan</td>\n",
       "      <td>Student</td>\n",
       "      <td>2020-01-15</td>\n",
       "      <td>4</td>\n",
       "    </tr>\n",
       "  </tbody>\n",
       "</table>\n",
       "</div>"
      ],
      "text/plain": [
       "              name occupation dateregister  year\n",
       "c003  Riyan Rattan    Student   2020-01-15     4"
      ]
     },
     "execution_count": 33,
     "metadata": {},
     "output_type": "execute_result"
    }
   ],
   "source": [
    "customers.loc[customers['occupation']=='Student', :]     #fetch rows with student as the occupation\n",
    "\n",
    "#Write the following codes, which fetch rows with student as the occupation. Show the result of all columns.\n",
    "\n",
    "#Boolean Subsetting: Series"
   ]
  },
  {
   "cell_type": "code",
   "execution_count": 34,
   "id": "52f8a604",
   "metadata": {},
   "outputs": [],
   "source": [
    "customers.to_csv('scientists_df.tsv', sep='\\t')    #saved as scientists_df.tsv\n",
    "\n",
    "#customer data fram save to csv, this is file name, and should tab separated file\n",
    "#tab separated file: tsv  or  csv (comma separated file)\n",
    "#To save your customers DataFrame as a TSV file, simply use to_csv() as above\n",
    "#To receive the credits, upload Excercise Word document AND your scientists_df.tsv from Jupitar as your answer. "
   ]
  },
  {
   "cell_type": "code",
   "execution_count": null,
   "id": "f7f926d0",
   "metadata": {},
   "outputs": [],
   "source": []
  }
 ],
 "metadata": {
  "kernelspec": {
   "display_name": "Python 3 (ipykernel)",
   "language": "python",
   "name": "python3"
  },
  "language_info": {
   "codemirror_mode": {
    "name": "ipython",
    "version": 3
   },
   "file_extension": ".py",
   "mimetype": "text/x-python",
   "name": "python",
   "nbconvert_exporter": "python",
   "pygments_lexer": "ipython3",
   "version": "3.9.7"
  }
 },
 "nbformat": 4,
 "nbformat_minor": 5
}
