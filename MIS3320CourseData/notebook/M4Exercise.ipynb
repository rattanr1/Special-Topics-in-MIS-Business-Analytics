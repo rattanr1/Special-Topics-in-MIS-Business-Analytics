{
 "cells": [
  {
   "cell_type": "code",
   "execution_count": 1,
   "id": "7c1e5a6a",
   "metadata": {},
   "outputs": [],
   "source": [
    "#PART I: Create a Series\n",
    "\n",
    "    #1.In Jupyter, navigate to your MIS3320 CourseData/notebook directory.\n",
    "    #2.Click New=>Python 3 (ipykernel) so that you create a new Jupyter notebook.\n",
    "    #3.Click File=>Save as… . In the next window, please ensure the file is saved under the notebook/ directory. Save the file as M4Exercise under the notebook directory.\n",
    "\n",
    "    \n",
    "#Create a Series\n",
    "\n",
    "#Series: list of values, is like a library in Pandas; it is like taking one column/row out of a table or spreadsheet\n",
    "         #a kind of one-dimensional array of any data type that we specified in the pandas module\n",
    "    "
   ]
  },
  {
   "cell_type": "code",
   "execution_count": 2,
   "id": "c61c25ee",
   "metadata": {},
   "outputs": [],
   "source": [
    "import pandas as pd"
   ]
  },
  {
   "cell_type": "code",
   "execution_count": 3,
   "id": "af812fa6",
   "metadata": {},
   "outputs": [
    {
     "data": {
      "text/plain": [
       "0    banana\n",
       "1        42\n",
       "dtype: object"
      ]
     },
     "execution_count": 3,
     "metadata": {},
     "output_type": "execute_result"
    }
   ],
   "source": [
    "s = pd.Series(['banana', 42])   #creating a series. Case Sensitive\n",
    "s\n",
    "\n",
    "#The result is a Series named s. "
   ]
  },
  {
   "cell_type": "code",
   "execution_count": 4,
   "id": "5b7d8a84",
   "metadata": {},
   "outputs": [
    {
     "name": "stdout",
     "output_type": "stream",
     "text": [
      "0    banana\n",
      "1        42\n",
      "dtype: object\n"
     ]
    }
   ],
   "source": [
    "s = pd.Series(['banana', 42]) \n",
    "print(s)\n",
    "\n",
    "#notice print can also result the output"
   ]
  },
  {
   "cell_type": "code",
   "execution_count": 5,
   "id": "e05c7b16",
   "metadata": {},
   "outputs": [
    {
     "data": {
      "text/plain": [
       "pandas.core.series.Series"
      ]
     },
     "execution_count": 5,
     "metadata": {},
     "output_type": "execute_result"
    }
   ],
   "source": [
    "type(s)  #Now we see the the type is Series here vs DataFrame"
   ]
  },
  {
   "cell_type": "code",
   "execution_count": 6,
   "id": "83eb8e03",
   "metadata": {},
   "outputs": [
    {
     "data": {
      "text/plain": [
       "'banana'"
      ]
     },
     "execution_count": 6,
     "metadata": {},
     "output_type": "execute_result"
    }
   ],
   "source": [
    "s[0]    #s is the variable we create, [ ] means to take something out"
   ]
  },
  {
   "cell_type": "code",
   "execution_count": 7,
   "id": "a52efaa2",
   "metadata": {},
   "outputs": [],
   "source": [
    "#PART II: Create a DataFrame\n",
    "\n",
    "#DataFrame: 2-D Spreadsheet structure; with labeled axes (rows and columns). \n",
    "#A Data frame is a two-dimensional data structure, i.e., data is aligned in a tabular fashion in rows and columns\n"
   ]
  },
  {
   "cell_type": "code",
   "execution_count": 8,
   "id": "27b63828",
   "metadata": {},
   "outputs": [
    {
     "ename": "SyntaxError",
     "evalue": "invalid syntax (Temp/ipykernel_14892/3885534387.py, line 6)",
     "output_type": "error",
     "traceback": [
      "\u001b[1;36m  File \u001b[1;32m\"C:\\Users\\riyta\\AppData\\Local\\Temp/ipykernel_14892/3885534387.py\"\u001b[1;36m, line \u001b[1;32m6\u001b[0m\n\u001b[1;33m    'column3' :[number 1,  number 2,  number 3 ]},                          #numbers without  ‘  ‘  #note the places of { }\u001b[0m\n\u001b[1;37m                       ^\u001b[0m\n\u001b[1;31mSyntaxError\u001b[0m\u001b[1;31m:\u001b[0m invalid syntax\n"
     ]
    }
   ],
   "source": [
    "#THIS IS THE FORMAT FOR CREATING A DataFrame\n",
    "\n",
    "data_name = pd.DataFrame({\n",
    "    'column1' :['text value 1',  'text value 2',  'text value 3' ],         #text value in  ‘  ‘\n",
    "    'column2' :['date 1',  'date 2',  'date 3' ],                           #date value in  ‘  ‘\n",
    "    'column3' :[number 1,  number 2,  number 3 ]},                          #numbers without  ‘  ‘  #note the places of { }\n",
    "    index=['index1', 'index2', 'index3'],                                   #index is like PK\n",
    "    columns=['column1', 'column2', 'column3])\n",
    "\n",
    "#For your reference, the following above is the format for creating a DataFrame. (to know how DataFrame is structured) "
   ]
  },
  {
   "cell_type": "code",
   "execution_count": 9,
   "id": "4239235a",
   "metadata": {},
   "outputs": [],
   "source": [
    "#Now create a DataFrame named customers"
   ]
  },
  {
   "cell_type": "code",
   "execution_count": 10,
   "id": "df9de8de",
   "metadata": {},
   "outputs": [
    {
     "data": {
      "text/html": [
       "<div>\n",
       "<style scoped>\n",
       "    .dataframe tbody tr th:only-of-type {\n",
       "        vertical-align: middle;\n",
       "    }\n",
       "\n",
       "    .dataframe tbody tr th {\n",
       "        vertical-align: top;\n",
       "    }\n",
       "\n",
       "    .dataframe thead th {\n",
       "        text-align: right;\n",
       "    }\n",
       "</style>\n",
       "<table border=\"1\" class=\"dataframe\">\n",
       "  <thead>\n",
       "    <tr style=\"text-align: right;\">\n",
       "      <th></th>\n",
       "      <th>name</th>\n",
       "      <th>occupation</th>\n",
       "      <th>dateregister</th>\n",
       "      <th>year</th>\n",
       "    </tr>\n",
       "  </thead>\n",
       "  <tbody>\n",
       "    <tr>\n",
       "      <th>c001</th>\n",
       "      <td>Rosaline Franklin</td>\n",
       "      <td>Chemist</td>\n",
       "      <td>2015-02-08</td>\n",
       "      <td>7</td>\n",
       "    </tr>\n",
       "    <tr>\n",
       "      <th>c002</th>\n",
       "      <td>William Gosset</td>\n",
       "      <td>Engineer</td>\n",
       "      <td>2021-03-25</td>\n",
       "      <td>1</td>\n",
       "    </tr>\n",
       "  </tbody>\n",
       "</table>\n",
       "</div>"
      ],
      "text/plain": [
       "                   name occupation dateregister  year\n",
       "c001  Rosaline Franklin    Chemist   2015-02-08     7\n",
       "c002     William Gosset   Engineer   2021-03-25     1"
      ]
     },
     "execution_count": 10,
     "metadata": {},
     "output_type": "execute_result"
    }
   ],
   "source": [
    "customers = pd.DataFrame({\n",
    "    'name':['Rosaline Franklin', 'William Gosset'],\n",
    "    'occupation':['Chemist', 'Engineer'],\n",
    "    'dateregister':['2015-02-08', '2021-03-25'],\n",
    "    'year':[7, 1]},\n",
    "    index=['c001', 'c002'],\n",
    "    columns=['name', 'occupation', 'dateregister', 'year']\n",
    "    \n",
    ")\n",
    "customers\n",
    "\n",
    "#created a customer DataFrame with two customers and four columns here"
   ]
  },
  {
   "cell_type": "code",
   "execution_count": 11,
   "id": "50c51e82",
   "metadata": {},
   "outputs": [],
   "source": [
    "#Now Modify the above codes to recreate the customers DataFrame \n",
    "#This time you should add a third row so that your name appears and details that follows \n",
    "#keep the rest of values in previous rows intact"
   ]
  },
  {
   "cell_type": "code",
   "execution_count": 12,
   "id": "9373ab06",
   "metadata": {},
   "outputs": [
    {
     "data": {
      "text/html": [
       "<div>\n",
       "<style scoped>\n",
       "    .dataframe tbody tr th:only-of-type {\n",
       "        vertical-align: middle;\n",
       "    }\n",
       "\n",
       "    .dataframe tbody tr th {\n",
       "        vertical-align: top;\n",
       "    }\n",
       "\n",
       "    .dataframe thead th {\n",
       "        text-align: right;\n",
       "    }\n",
       "</style>\n",
       "<table border=\"1\" class=\"dataframe\">\n",
       "  <thead>\n",
       "    <tr style=\"text-align: right;\">\n",
       "      <th></th>\n",
       "      <th>name</th>\n",
       "      <th>occupation</th>\n",
       "      <th>dateregister</th>\n",
       "      <th>year</th>\n",
       "    </tr>\n",
       "  </thead>\n",
       "  <tbody>\n",
       "    <tr>\n",
       "      <th>c001</th>\n",
       "      <td>Rosaline Franklin</td>\n",
       "      <td>Chemist</td>\n",
       "      <td>2015-02-08</td>\n",
       "      <td>7</td>\n",
       "    </tr>\n",
       "    <tr>\n",
       "      <th>c002</th>\n",
       "      <td>William Gosset</td>\n",
       "      <td>Engineer</td>\n",
       "      <td>2021-03-25</td>\n",
       "      <td>1</td>\n",
       "    </tr>\n",
       "    <tr>\n",
       "      <th>c003</th>\n",
       "      <td>Riyan Rattan</td>\n",
       "      <td>Student</td>\n",
       "      <td>2020-01-15</td>\n",
       "      <td>4</td>\n",
       "    </tr>\n",
       "  </tbody>\n",
       "</table>\n",
       "</div>"
      ],
      "text/plain": [
       "                   name occupation dateregister  year\n",
       "c001  Rosaline Franklin    Chemist   2015-02-08     7\n",
       "c002     William Gosset   Engineer   2021-03-25     1\n",
       "c003       Riyan Rattan    Student   2020-01-15     4"
      ]
     },
     "execution_count": 12,
     "metadata": {},
     "output_type": "execute_result"
    }
   ],
   "source": [
    "customers = pd.DataFrame({\n",
    "    'name':['Rosaline Franklin', 'William Gosset', 'Riyan Rattan'],\n",
    "    'occupation':['Chemist', 'Engineer', 'Student'],\n",
    "    'dateregister':['2015-02-08', '2021-03-25', '2020-01-15'],\n",
    "    'year':[7, 1, 4]},\n",
    "    index=['c001', 'c002', 'c003'],\n",
    "    columns=['name', 'occupation', 'dateregister', 'year']\n",
    "    \n",
    ")\n",
    "customers\n",
    "\n",
    "#  We just added a row here with my name"
   ]
  },
  {
   "cell_type": "code",
   "execution_count": 13,
   "id": "b5951f8c",
   "metadata": {},
   "outputs": [
    {
     "data": {
      "text/plain": [
       "c001    Rosaline Franklin\n",
       "c002       William Gosset\n",
       "c003         Riyan Rattan\n",
       "Name: name, dtype: object"
      ]
     },
     "execution_count": 13,
     "metadata": {},
     "output_type": "execute_result"
    }
   ],
   "source": [
    "customers['name']\n",
    "\n",
    "#  takes out and displays name column only"
   ]
  },
  {
   "cell_type": "code",
   "execution_count": 14,
   "id": "6ea36a38",
   "metadata": {},
   "outputs": [
    {
     "data": {
      "text/plain": [
       "name            object\n",
       "occupation      object\n",
       "dateregister    object\n",
       "year             int64\n",
       "dtype: object"
      ]
     },
     "execution_count": 14,
     "metadata": {},
     "output_type": "execute_result"
    }
   ],
   "source": [
    "customers.dtypes  \n",
    "\n",
    "#describes how the bytes in the fixed-size block of memory corresponding to an array item should be interpreted. \n",
    "#describes the type of the data (integer, float, Python object, bool,....)\n",
    "\n",
    "#object:          Text or mixed numeric and non-numeric values\n",
    "#int64 :          Integer numbers\n",
    "#float64:         Floating point numbers\n",
    "#bool:            True/False values\n",
    "#datetime64:      Date and time values\n",
    "#timedelta[ns]:   Differences between two datetimes\n",
    "#category:        Finite list of text values\n",
    "\n",
    "\n",
    "#Data types are one of those things that you don’t tend to care about until you get an error or some unexpected results. \n",
    "#It is also one of the first things you should check once you load a new data into pandas for further analysis.\n",
    "\n",
    "\n",
    "#Concern examples:\n",
    "\n",
    "    #The Customer Number is a float64 but it should be an int64\n",
    "    #The 2016 and 2017 columns are stored as objects, not numerical values such as a float64 or int64\n",
    "    #Percent Growth and Jan Units are also stored as objects not numerical values\n",
    "    #We have Month, Day, and Year columns that should be converted to datetime64\n",
    "\n",
    "\n",
    "#Until we clean up these data types, it is going to be very difficult to do much additional analysis on this data.\n",
    "\n",
    "#In order to convert data types in pandas, there are three basic options:\n",
    "\n",
    "        #Use astype() to force an appropriate dtype\n",
    "        #Create a custom function to convert the data\n",
    "        #Use pandas functions such as to_numeric() or to_datetime()"
   ]
  },
  {
   "cell_type": "code",
   "execution_count": 15,
   "id": "ef7013eb",
   "metadata": {},
   "outputs": [
    {
     "data": {
      "text/plain": [
       "pandas.core.frame.DataFrame"
      ]
     },
     "execution_count": 15,
     "metadata": {},
     "output_type": "execute_result"
    }
   ],
   "source": [
    "type(customers)   #note what type this is = DataFrame"
   ]
  },
  {
   "cell_type": "code",
   "execution_count": 16,
   "id": "9d563e72",
   "metadata": {},
   "outputs": [],
   "source": [
    "year_column = customers['year']"
   ]
  },
  {
   "cell_type": "code",
   "execution_count": 17,
   "id": "d0e6901d",
   "metadata": {},
   "outputs": [
    {
     "data": {
      "text/plain": [
       "pandas.core.series.Series"
      ]
     },
     "execution_count": 17,
     "metadata": {},
     "output_type": "execute_result"
    }
   ],
   "source": [
    "type(year_column)"
   ]
  },
  {
   "cell_type": "code",
   "execution_count": null,
   "id": "35fa77f8",
   "metadata": {},
   "outputs": [],
   "source": []
  },
  {
   "cell_type": "code",
   "execution_count": 18,
   "id": "ef5cd08a",
   "metadata": {},
   "outputs": [
    {
     "data": {
      "text/html": [
       "<div>\n",
       "<style scoped>\n",
       "    .dataframe tbody tr th:only-of-type {\n",
       "        vertical-align: middle;\n",
       "    }\n",
       "\n",
       "    .dataframe tbody tr th {\n",
       "        vertical-align: top;\n",
       "    }\n",
       "\n",
       "    .dataframe thead th {\n",
       "        text-align: right;\n",
       "    }\n",
       "</style>\n",
       "<table border=\"1\" class=\"dataframe\">\n",
       "  <thead>\n",
       "    <tr style=\"text-align: right;\">\n",
       "      <th></th>\n",
       "      <th>name</th>\n",
       "      <th>occupation</th>\n",
       "      <th>dateregister</th>\n",
       "      <th>year</th>\n",
       "    </tr>\n",
       "  </thead>\n",
       "  <tbody>\n",
       "    <tr>\n",
       "      <th>c001</th>\n",
       "      <td>Rosaline Franklin</td>\n",
       "      <td>Chemist</td>\n",
       "      <td>2015-02-08</td>\n",
       "      <td>7</td>\n",
       "    </tr>\n",
       "    <tr>\n",
       "      <th>c002</th>\n",
       "      <td>William Gosset</td>\n",
       "      <td>Engineer</td>\n",
       "      <td>2021-03-25</td>\n",
       "      <td>1</td>\n",
       "    </tr>\n",
       "    <tr>\n",
       "      <th>c003</th>\n",
       "      <td>Riyan Rattan</td>\n",
       "      <td>Student</td>\n",
       "      <td>2020-01-15</td>\n",
       "      <td>4</td>\n",
       "    </tr>\n",
       "  </tbody>\n",
       "</table>\n",
       "</div>"
      ],
      "text/plain": [
       "                   name occupation dateregister  year\n",
       "c001  Rosaline Franklin    Chemist   2015-02-08     7\n",
       "c002     William Gosset   Engineer   2021-03-25     1\n",
       "c003       Riyan Rattan    Student   2020-01-15     4"
      ]
     },
     "execution_count": 18,
     "metadata": {},
     "output_type": "execute_result"
    }
   ],
   "source": [
    "customers = pd.DataFrame({\n",
    "    'name':['Rosaline Franklin', 'William Gosset', 'Riyan Rattan'],\n",
    "    'occupation':['Chemist', 'Engineer', 'Student'],\n",
    "    'dateregister':['2015-02-08', '2021-03-25', '2020-01-15'],\n",
    "    'year':[7, 1, 4]},\n",
    "    index=['c001', 'c002', 'c003'],\n",
    "    columns=['name', 'occupation', 'dateregister', 'year']\n",
    "    \n",
    ")\n",
    "customers\n",
    "\n",
    "#reference for next series of tasks"
   ]
  },
  {
   "cell_type": "code",
   "execution_count": null,
   "id": "edb2e673",
   "metadata": {},
   "outputs": [],
   "source": [
    "#DataFrame can be thought of as a dictionary of Series objects; as Python’s way of storing spreadsheet-like data\n",
    "#Many of the features of the Series data structure carry over into the DataFrame.\n",
    "\n",
    "#Series can only contain single list with index, \n",
    "#whereas dataframe can be made of more than one series \n",
    "#or we can say that a dataframe is a collection of series that can be used to analyse the data\n"
   ]
  },
  {
   "cell_type": "code",
   "execution_count": 19,
   "id": "baf7aefa",
   "metadata": {},
   "outputs": [],
   "source": [
    "                                #PART III: Get a Series from a DataFrame\n",
    "\n",
    "\n",
    "#Get a Row from a DataFrame as shown below:"
   ]
  },
  {
   "cell_type": "code",
   "execution_count": 20,
   "id": "a8f8b9aa",
   "metadata": {},
   "outputs": [
    {
     "data": {
      "text/plain": [
       "name            Riyan Rattan\n",
       "occupation           Student\n",
       "dateregister      2020-01-15\n",
       "year                       4\n",
       "Name: c003, dtype: object"
      ]
     },
     "execution_count": 20,
     "metadata": {},
     "output_type": "execute_result"
    }
   ],
   "source": [
    "third_row = customers.iloc[2]      #take the third row (2 cause start at zero! 0 is Row 1, 1 is Row 2, 2 is row 3)\n",
    "third_row\n",
    "\n",
    "            #use iloc to fetch by row index number; use iloc to get the third row (the row with your name) from customers \n",
    "    #uses iloc to get the third row (the row with your name) from customers"
   ]
  },
  {
   "cell_type": "code",
   "execution_count": 21,
   "id": "67e99981",
   "metadata": {},
   "outputs": [
    {
     "data": {
      "text/plain": [
       "name            Riyan Rattan\n",
       "occupation           Student\n",
       "dateregister      2020-01-15\n",
       "year                       4\n",
       "Name: c003, dtype: object"
      ]
     },
     "execution_count": 21,
     "metadata": {},
     "output_type": "execute_result"
    }
   ],
   "source": [
    "c003_row = customers.loc['c003']     #does not work if no put 'c003'\n",
    "c003_row                              #c003 is the same way as third_row but another way\n",
    "\n",
    "#Write codes to use loc to get the third row (the row with your name) from customers and show the result\n",
    "#another way"
   ]
  },
  {
   "cell_type": "code",
   "execution_count": null,
   "id": "46415226",
   "metadata": {},
   "outputs": [],
   "source": []
  },
  {
   "cell_type": "code",
   "execution_count": 22,
   "id": "5c86e450",
   "metadata": {},
   "outputs": [
    {
     "data": {
      "text/html": [
       "<div>\n",
       "<style scoped>\n",
       "    .dataframe tbody tr th:only-of-type {\n",
       "        vertical-align: middle;\n",
       "    }\n",
       "\n",
       "    .dataframe tbody tr th {\n",
       "        vertical-align: top;\n",
       "    }\n",
       "\n",
       "    .dataframe thead th {\n",
       "        text-align: right;\n",
       "    }\n",
       "</style>\n",
       "<table border=\"1\" class=\"dataframe\">\n",
       "  <thead>\n",
       "    <tr style=\"text-align: right;\">\n",
       "      <th></th>\n",
       "      <th>name</th>\n",
       "      <th>year</th>\n",
       "    </tr>\n",
       "  </thead>\n",
       "  <tbody>\n",
       "    <tr>\n",
       "      <th>c001</th>\n",
       "      <td>Rosaline Franklin</td>\n",
       "      <td>7</td>\n",
       "    </tr>\n",
       "    <tr>\n",
       "      <th>c002</th>\n",
       "      <td>William Gosset</td>\n",
       "      <td>1</td>\n",
       "    </tr>\n",
       "    <tr>\n",
       "      <th>c003</th>\n",
       "      <td>Riyan Rattan</td>\n",
       "      <td>4</td>\n",
       "    </tr>\n",
       "  </tbody>\n",
       "</table>\n",
       "</div>"
      ],
      "text/plain": [
       "                   name  year\n",
       "c001  Rosaline Franklin     7\n",
       "c002     William Gosset     1\n",
       "c003       Riyan Rattan     4"
      ]
     },
     "execution_count": 22,
     "metadata": {},
     "output_type": "execute_result"
    }
   ],
   "source": [
    "multi_columns = customers [['name', 'year']]\n",
    "multi_columns\n",
    "\n",
    "#something to experiment"
   ]
  },
  {
   "cell_type": "code",
   "execution_count": 23,
   "id": "1441d922",
   "metadata": {},
   "outputs": [
    {
     "data": {
      "text/plain": [
       "pandas.core.frame.DataFrame"
      ]
     },
     "execution_count": 23,
     "metadata": {},
     "output_type": "execute_result"
    }
   ],
   "source": [
    "type(customers)   #naming the type customers is, which is DataFrame"
   ]
  },
  {
   "cell_type": "code",
   "execution_count": 24,
   "id": "1185c284",
   "metadata": {},
   "outputs": [
    {
     "data": {
      "text/plain": [
       "pandas.core.series.Series"
      ]
     },
     "execution_count": 24,
     "metadata": {},
     "output_type": "execute_result"
    }
   ],
   "source": [
    "type(year_column)     #columns is a series"
   ]
  },
  {
   "cell_type": "code",
   "execution_count": 25,
   "id": "ca7e5ce1",
   "metadata": {},
   "outputs": [
    {
     "data": {
      "text/plain": [
       "pandas.core.series.Series"
      ]
     },
     "execution_count": 25,
     "metadata": {},
     "output_type": "execute_result"
    }
   ],
   "source": [
    "type(third_row)     #row is a series"
   ]
  },
  {
   "cell_type": "code",
   "execution_count": 26,
   "id": "acb077ed",
   "metadata": {},
   "outputs": [
    {
     "data": {
      "text/plain": [
       "pandas.core.frame.DataFrame"
      ]
     },
     "execution_count": 26,
     "metadata": {},
     "output_type": "execute_result"
    }
   ],
   "source": [
    "type(multi_columns)   #more than one columns = data frame"
   ]
  },
  {
   "cell_type": "code",
   "execution_count": null,
   "id": "6b440214",
   "metadata": {},
   "outputs": [],
   "source": []
  },
  {
   "cell_type": "code",
   "execution_count": 27,
   "id": "8888be8b",
   "metadata": {},
   "outputs": [
    {
     "data": {
      "text/plain": [
       "c001    Rosaline Franklin\n",
       "c002       William Gosset\n",
       "c003         Riyan Rattan\n",
       "Name: name, dtype: object"
      ]
     },
     "execution_count": 27,
     "metadata": {},
     "output_type": "execute_result"
    }
   ],
   "source": [
    "name_column=customers['name']\n",
    "name_column"
   ]
  },
  {
   "cell_type": "code",
   "execution_count": 28,
   "id": "ba3eb2b5",
   "metadata": {},
   "outputs": [
    {
     "data": {
      "text/html": [
       "<div>\n",
       "<style scoped>\n",
       "    .dataframe tbody tr th:only-of-type {\n",
       "        vertical-align: middle;\n",
       "    }\n",
       "\n",
       "    .dataframe tbody tr th {\n",
       "        vertical-align: top;\n",
       "    }\n",
       "\n",
       "    .dataframe thead th {\n",
       "        text-align: right;\n",
       "    }\n",
       "</style>\n",
       "<table border=\"1\" class=\"dataframe\">\n",
       "  <thead>\n",
       "    <tr style=\"text-align: right;\">\n",
       "      <th></th>\n",
       "      <th>name</th>\n",
       "    </tr>\n",
       "  </thead>\n",
       "  <tbody>\n",
       "    <tr>\n",
       "      <th>c001</th>\n",
       "      <td>Rosaline Franklin</td>\n",
       "    </tr>\n",
       "    <tr>\n",
       "      <th>c002</th>\n",
       "      <td>William Gosset</td>\n",
       "    </tr>\n",
       "    <tr>\n",
       "      <th>c003</th>\n",
       "      <td>Riyan Rattan</td>\n",
       "    </tr>\n",
       "  </tbody>\n",
       "</table>\n",
       "</div>"
      ],
      "text/plain": [
       "                   name\n",
       "c001  Rosaline Franklin\n",
       "c002     William Gosset\n",
       "c003       Riyan Rattan"
      ]
     },
     "execution_count": 28,
     "metadata": {},
     "output_type": "execute_result"
    }
   ],
   "source": [
    "name_column=customers[['name']]\n",
    "name_column\n",
    "\n",
    "#notice the difference?!"
   ]
  },
  {
   "cell_type": "code",
   "execution_count": 29,
   "id": "fd693f9b",
   "metadata": {},
   "outputs": [
    {
     "data": {
      "text/plain": [
       "pandas.core.frame.DataFrame"
      ]
     },
     "execution_count": 29,
     "metadata": {},
     "output_type": "execute_result"
    }
   ],
   "source": [
    "type(name_column)    #named it with ( )"
   ]
  },
  {
   "cell_type": "code",
   "execution_count": 30,
   "id": "d6fc1ed7",
   "metadata": {},
   "outputs": [
    {
     "data": {
      "text/plain": [
       "type[                   name\n",
       "c001  Rosaline Franklin\n",
       "c002     William Gosset\n",
       "c003       Riyan Rattan]"
      ]
     },
     "execution_count": 30,
     "metadata": {},
     "output_type": "execute_result"
    }
   ],
   "source": [
    "type[name_column] #single brackets output different, since it is taking the data out as specified within [ ]"
   ]
  },
  {
   "cell_type": "code",
   "execution_count": null,
   "id": "875a2c56",
   "metadata": {},
   "outputs": [],
   "source": []
  },
  {
   "cell_type": "code",
   "execution_count": 31,
   "id": "f9c3f33c",
   "metadata": {},
   "outputs": [
    {
     "data": {
      "text/plain": [
       "c001    7\n",
       "c002    1\n",
       "c003    4\n",
       "Name: year, dtype: int64"
      ]
     },
     "execution_count": 31,
     "metadata": {},
     "output_type": "execute_result"
    }
   ],
   "source": [
    "year_column=customers['year']          #fetch the year column\n",
    "year_column\n",
    "\n",
    "#use [] to get the year column from customers and show the result\n",
    "#[] means to take something out"
   ]
  },
  {
   "cell_type": "code",
   "execution_count": 32,
   "id": "e8a35e1a",
   "metadata": {},
   "outputs": [
    {
     "data": {
      "text/plain": [
       "c001    7\n",
       "c002    1\n",
       "c003    4\n",
       "Name: year, dtype: int64"
      ]
     },
     "execution_count": 32,
     "metadata": {},
     "output_type": "execute_result"
    }
   ],
   "source": [
    "year_column    #same results??"
   ]
  },
  {
   "cell_type": "code",
   "execution_count": null,
   "id": "c411de8a",
   "metadata": {},
   "outputs": [],
   "source": []
  },
  {
   "cell_type": "code",
   "execution_count": 33,
   "id": "086efc1a",
   "metadata": {},
   "outputs": [],
   "source": [
    "                                        #PART IV: Series Methods"
   ]
  },
  {
   "cell_type": "code",
   "execution_count": 34,
   "id": "ed46e49d",
   "metadata": {},
   "outputs": [
    {
     "data": {
      "text/plain": [
       "4.0"
      ]
     },
     "execution_count": 34,
     "metadata": {},
     "output_type": "execute_result"
    }
   ],
   "source": [
    "year_column.mean()     #What is the mean of year?"
   ]
  },
  {
   "cell_type": "code",
   "execution_count": 35,
   "id": "2b16cc5b",
   "metadata": {},
   "outputs": [
    {
     "data": {
      "text/plain": [
       "count    3.0\n",
       "mean     4.0\n",
       "std      3.0\n",
       "min      1.0\n",
       "25%      2.5\n",
       "50%      4.0\n",
       "75%      5.5\n",
       "max      7.0\n",
       "Name: year, dtype: float64"
      ]
     },
     "execution_count": 35,
     "metadata": {},
     "output_type": "execute_result"
    }
   ],
   "source": [
    "year_column.describe()  #What is the basic descriptive stats of year?\n",
    "\n",
    "#Use describe(). "
   ]
  },
  {
   "cell_type": "code",
   "execution_count": 36,
   "id": "88df9ffb",
   "metadata": {},
   "outputs": [
    {
     "data": {
      "text/plain": [
       "pandas.core.series.Series"
      ]
     },
     "execution_count": 36,
     "metadata": {},
     "output_type": "execute_result"
    }
   ],
   "source": [
    "type(year_column.describe())   #adding type(   )  tells if series or data frame"
   ]
  },
  {
   "cell_type": "code",
   "execution_count": null,
   "id": "2d34373f",
   "metadata": {},
   "outputs": [],
   "source": []
  },
  {
   "cell_type": "code",
   "execution_count": 37,
   "id": "322ac4fc",
   "metadata": {},
   "outputs": [
    {
     "data": {
      "text/html": [
       "<div>\n",
       "<style scoped>\n",
       "    .dataframe tbody tr th:only-of-type {\n",
       "        vertical-align: middle;\n",
       "    }\n",
       "\n",
       "    .dataframe tbody tr th {\n",
       "        vertical-align: top;\n",
       "    }\n",
       "\n",
       "    .dataframe thead th {\n",
       "        text-align: right;\n",
       "    }\n",
       "</style>\n",
       "<table border=\"1\" class=\"dataframe\">\n",
       "  <thead>\n",
       "    <tr style=\"text-align: right;\">\n",
       "      <th></th>\n",
       "      <th>name</th>\n",
       "      <th>occupation</th>\n",
       "      <th>dateregister</th>\n",
       "      <th>year</th>\n",
       "    </tr>\n",
       "  </thead>\n",
       "  <tbody>\n",
       "    <tr>\n",
       "      <th>c001</th>\n",
       "      <td>Rosaline Franklin</td>\n",
       "      <td>Chemist</td>\n",
       "      <td>2015-02-08</td>\n",
       "      <td>7</td>\n",
       "    </tr>\n",
       "    <tr>\n",
       "      <th>c002</th>\n",
       "      <td>William Gosset</td>\n",
       "      <td>Engineer</td>\n",
       "      <td>2021-03-25</td>\n",
       "      <td>1</td>\n",
       "    </tr>\n",
       "    <tr>\n",
       "      <th>c003</th>\n",
       "      <td>Riyan Rattan</td>\n",
       "      <td>Student</td>\n",
       "      <td>2020-01-15</td>\n",
       "      <td>4</td>\n",
       "    </tr>\n",
       "  </tbody>\n",
       "</table>\n",
       "</div>"
      ],
      "text/plain": [
       "                   name occupation dateregister  year\n",
       "c001  Rosaline Franklin    Chemist   2015-02-08     7\n",
       "c002     William Gosset   Engineer   2021-03-25     1\n",
       "c003       Riyan Rattan    Student   2020-01-15     4"
      ]
     },
     "execution_count": 37,
     "metadata": {},
     "output_type": "execute_result"
    }
   ],
   "source": [
    "customers  #to try out"
   ]
  },
  {
   "cell_type": "code",
   "execution_count": 38,
   "id": "b846078a",
   "metadata": {},
   "outputs": [
    {
     "data": {
      "text/plain": [
       "name          Riyan Rattan\n",
       "occupation         Student\n",
       "Name: c003, dtype: object"
      ]
     },
     "execution_count": 38,
     "metadata": {},
     "output_type": "execute_result"
    }
   ],
   "source": [
    "customers.loc['c003', ['name', 'occupation']]"
   ]
  },
  {
   "cell_type": "code",
   "execution_count": 39,
   "id": "81af7316",
   "metadata": {},
   "outputs": [
    {
     "data": {
      "text/plain": [
       "name    Riyan Rattan\n",
       "Name: c003, dtype: object"
      ]
     },
     "execution_count": 39,
     "metadata": {},
     "output_type": "execute_result"
    }
   ],
   "source": [
    "customers.loc['c003', ['name', ]]     #notice the difference, didn't display occupation!"
   ]
  },
  {
   "cell_type": "code",
   "execution_count": null,
   "id": "c14a66b8",
   "metadata": {},
   "outputs": [],
   "source": []
  },
  {
   "cell_type": "code",
   "execution_count": 40,
   "id": "5c1ddbb3",
   "metadata": {},
   "outputs": [],
   "source": [
    "#Boolean Subsetting: Series"
   ]
  },
  {
   "cell_type": "code",
   "execution_count": 41,
   "id": "9c42f316",
   "metadata": {},
   "outputs": [
    {
     "data": {
      "text/html": [
       "<div>\n",
       "<style scoped>\n",
       "    .dataframe tbody tr th:only-of-type {\n",
       "        vertical-align: middle;\n",
       "    }\n",
       "\n",
       "    .dataframe tbody tr th {\n",
       "        vertical-align: top;\n",
       "    }\n",
       "\n",
       "    .dataframe thead th {\n",
       "        text-align: right;\n",
       "    }\n",
       "</style>\n",
       "<table border=\"1\" class=\"dataframe\">\n",
       "  <thead>\n",
       "    <tr style=\"text-align: right;\">\n",
       "      <th></th>\n",
       "      <th>name</th>\n",
       "      <th>occupation</th>\n",
       "      <th>dateregister</th>\n",
       "      <th>year</th>\n",
       "    </tr>\n",
       "  </thead>\n",
       "  <tbody>\n",
       "    <tr>\n",
       "      <th>c001</th>\n",
       "      <td>Rosaline Franklin</td>\n",
       "      <td>Chemist</td>\n",
       "      <td>2015-02-08</td>\n",
       "      <td>7</td>\n",
       "    </tr>\n",
       "    <tr>\n",
       "      <th>c003</th>\n",
       "      <td>Riyan Rattan</td>\n",
       "      <td>Student</td>\n",
       "      <td>2020-01-15</td>\n",
       "      <td>4</td>\n",
       "    </tr>\n",
       "  </tbody>\n",
       "</table>\n",
       "</div>"
      ],
      "text/plain": [
       "                   name occupation dateregister  year\n",
       "c001  Rosaline Franklin    Chemist   2015-02-08     7\n",
       "c003       Riyan Rattan    Student   2020-01-15     4"
      ]
     },
     "execution_count": 41,
     "metadata": {},
     "output_type": "execute_result"
    }
   ],
   "source": [
    "customers.loc[customers['year'] >2, :]    \n",
    "                        \n",
    "                        #    customer.loc will show you the row\n",
    "                        #    within brackets can show the rows I want to show: the [years] greater than 2 ---the condition\n",
    "            #Boolean Subsetting: Series\n",
    "            \n",
    "            #The following codes above, will fetch rows with year greater than 2. \n",
    "            #only choose the rows with year > 2, all columns"
   ]
  },
  {
   "cell_type": "code",
   "execution_count": 42,
   "id": "f6e7acf0",
   "metadata": {},
   "outputs": [
    {
     "data": {
      "text/plain": [
       "c001     True\n",
       "c002    False\n",
       "c003     True\n",
       "Name: year, dtype: bool"
      ]
     },
     "execution_count": 42,
     "metadata": {},
     "output_type": "execute_result"
    }
   ],
   "source": [
    "customers['year']>2"
   ]
  },
  {
   "cell_type": "code",
   "execution_count": null,
   "id": "0fabb5ca",
   "metadata": {},
   "outputs": [],
   "source": []
  },
  {
   "cell_type": "code",
   "execution_count": 43,
   "id": "342f7cc6",
   "metadata": {},
   "outputs": [
    {
     "data": {
      "text/html": [
       "<div>\n",
       "<style scoped>\n",
       "    .dataframe tbody tr th:only-of-type {\n",
       "        vertical-align: middle;\n",
       "    }\n",
       "\n",
       "    .dataframe tbody tr th {\n",
       "        vertical-align: top;\n",
       "    }\n",
       "\n",
       "    .dataframe thead th {\n",
       "        text-align: right;\n",
       "    }\n",
       "</style>\n",
       "<table border=\"1\" class=\"dataframe\">\n",
       "  <thead>\n",
       "    <tr style=\"text-align: right;\">\n",
       "      <th></th>\n",
       "      <th>name</th>\n",
       "      <th>occupation</th>\n",
       "      <th>dateregister</th>\n",
       "      <th>year</th>\n",
       "    </tr>\n",
       "  </thead>\n",
       "  <tbody>\n",
       "    <tr>\n",
       "      <th>c003</th>\n",
       "      <td>Riyan Rattan</td>\n",
       "      <td>Student</td>\n",
       "      <td>2020-01-15</td>\n",
       "      <td>4</td>\n",
       "    </tr>\n",
       "  </tbody>\n",
       "</table>\n",
       "</div>"
      ],
      "text/plain": [
       "              name occupation dateregister  year\n",
       "c003  Riyan Rattan    Student   2020-01-15     4"
      ]
     },
     "execution_count": 43,
     "metadata": {},
     "output_type": "execute_result"
    }
   ],
   "source": [
    "customers.loc[customers['occupation']=='Student', :]     #fetch rows with student as the occupation\n",
    "\n",
    "#The following codes above, will fetch rows with student as the occupation.\n"
   ]
  },
  {
   "cell_type": "code",
   "execution_count": null,
   "id": "ea158a45",
   "metadata": {},
   "outputs": [],
   "source": []
  },
  {
   "cell_type": "code",
   "execution_count": 44,
   "id": "f25c0e1f",
   "metadata": {},
   "outputs": [],
   "source": [
    "                                #PART V: Save a DataFrame into a TSV\n",
    "    \n",
    "#To save your customers DataFrame as a TSV file, simply use to_csv()"
   ]
  },
  {
   "cell_type": "code",
   "execution_count": 45,
   "id": "52f8a604",
   "metadata": {},
   "outputs": [],
   "source": [
    "customers.to_csv('scientists_df.tsv', sep='\\t')    #saved as scientists_df.tsv\n",
    "\n",
    "#customer DataFrame saved to csv (this is file name) and should tab separated file\n",
    "\n",
    "#tab separated file: tsv  or  csv (comma separated file)\n"
   ]
  },
  {
   "cell_type": "code",
   "execution_count": null,
   "id": "f7f926d0",
   "metadata": {},
   "outputs": [],
   "source": []
  }
 ],
 "metadata": {
  "kernelspec": {
   "display_name": "Python 3 (ipykernel)",
   "language": "python",
   "name": "python3"
  },
  "language_info": {
   "codemirror_mode": {
    "name": "ipython",
    "version": 3
   },
   "file_extension": ".py",
   "mimetype": "text/x-python",
   "name": "python",
   "nbconvert_exporter": "python",
   "pygments_lexer": "ipython3",
   "version": "3.9.7"
  }
 },
 "nbformat": 4,
 "nbformat_minor": 5
}
