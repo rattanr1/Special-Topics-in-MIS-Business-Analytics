{
 "cells": [
  {
   "cell_type": "code",
   "execution_count": 1,
   "id": "74fa7b5a",
   "metadata": {},
   "outputs": [
    {
     "data": {
      "text/plain": [
       "'C:\\\\Users\\\\riyta\\\\MIS3320CourseData\\\\notebook'"
      ]
     },
     "execution_count": 1,
     "metadata": {},
     "output_type": "execute_result"
    }
   ],
   "source": [
    "pwd\n",
    "\n",
    "#The field beginning with In[] is called a cell. This is the place you type Unix commands or Python codes for execution.\n"
   ]
  },
  {
   "cell_type": "code",
   "execution_count": 2,
   "id": "7e95d065",
   "metadata": {},
   "outputs": [
    {
     "name": "stdout",
     "output_type": "stream",
     "text": [
      " Volume in drive C is OS\n",
      " Volume Serial Number is B64B-072A\n",
      "\n",
      " Directory of C:\\Users\\riyta\\MIS3320CourseData\\notebook\n",
      "\n",
      "02/20/2022  04:29 PM    <DIR>          .\n",
      "02/20/2022  04:29 PM    <DIR>          ..\n",
      "02/14/2022  02:25 AM             6,148 .DS_Store\n",
      "02/20/2022  03:38 PM    <DIR>          .ipynb_checkpoints\n",
      "02/20/2022  04:29 PM            12,762 M2Exercise.ipynb\n",
      "02/14/2022  12:40 PM            48,443 M3exercise.ipynb\n",
      "02/14/2022  12:06 PM            15,254 Module3Exercise.ipynb\n",
      "02/14/2022  02:25 AM               113 README.md\n",
      "02/20/2022  03:37 PM                72 Untitled.ipynb\n",
      "               6 File(s)         82,792 bytes\n",
      "               3 Dir(s)  30,336,753,664 bytes free\n"
     ]
    }
   ],
   "source": [
    "ls\n",
    "#The result will list the directories and files under the current directory."
   ]
  },
  {
   "cell_type": "code",
   "execution_count": 11,
   "id": "ae2d917d",
   "metadata": {},
   "outputs": [
    {
     "ename": "SyntaxError",
     "evalue": "invalid syntax (Temp/ipykernel_4168/3812953402.py, line 1)",
     "output_type": "error",
     "traceback": [
      "\u001b[1;36m  File \u001b[1;32m\"C:\\Users\\riyta\\AppData\\Local\\Temp/ipykernel_4168/3812953402.py\"\u001b[1;36m, line \u001b[1;32m1\u001b[0m\n\u001b[1;33m    man ls  # this is a unix comment to display manual\u001b[0m\n\u001b[1;37m        ^\u001b[0m\n\u001b[1;31mSyntaxError\u001b[0m\u001b[1;31m:\u001b[0m invalid syntax\n"
     ]
    }
   ],
   "source": [
    "man ls  # this is a unix comment to display manual\n",
    "#mine doesn't work some reason lol\n",
    "\n",
    "#man ls, which shows the manual page for the ls command"
   ]
  },
  {
   "cell_type": "code",
   "execution_count": 10,
   "id": "9e0113a2",
   "metadata": {},
   "outputs": [
    {
     "name": "stdout",
     "output_type": "stream",
     "text": [
      " Volume in drive C is OS\n",
      " Volume Serial Number is B64B-072A\n",
      "\n",
      " Directory of C:\\Users\\riyta\\MIS3320CourseData\\notebook\n",
      "\n",
      "\n",
      " Directory of C:\\Users\\riyta\\MIS3320CourseData\\Data\n",
      "\n",
      "02/14/2022  02:29 AM    <DIR>          .\n",
      "02/14/2022  02:29 AM    <DIR>          ..\n",
      "02/14/2022  02:25 AM                 0 .gitkeep\n",
      "02/14/2022  02:25 AM         2,407,517 acs_ny.csv\n",
      "02/14/2022  02:25 AM            46,158 banklist.csv\n",
      "02/14/2022  02:25 AM            90,190 billboard.csv\n",
      "02/14/2022  02:25 AM             5,385 bladder.csv\n",
      "02/14/2022  02:25 AM                56 concat_1.csv\n",
      "02/14/2022  02:25 AM                56 concat_2.csv\n",
      "02/14/2022  02:25 AM                64 concat_3.csv\n",
      "02/14/2022  02:25 AM             5,674 country_timeseries.csv\n",
      "02/14/2022  02:25 AM               311 doctors.csv\n",
      "02/14/2022  02:25 AM               298 doctors_unicode.csv\n",
      "02/14/2022  02:25 AM        49,439,217 epi_sim.zip\n",
      "02/14/2022  02:25 AM            81,932 gapminder.tsv\n",
      "02/14/2022  02:25 AM           267,845 housing.csv\n",
      "02/14/2022  02:25 AM           270,670 housing_renamed.csv\n",
      "02/14/2022  02:25 AM               965 pew.csv\n",
      "02/14/2022  02:25 AM            11,318 raw_data_urls.txt\n",
      "02/14/2022  02:25 AM               433 scientists.csv\n",
      "02/14/2022  02:25 AM               122 survey_person.csv\n",
      "02/14/2022  02:25 AM                74 survey_site.csv\n",
      "02/14/2022  02:25 AM               391 survey_survey.csv\n",
      "02/14/2022  02:25 AM               168 survey_visited.csv\n",
      "02/14/2022  02:25 AM           136,637 tesla_stock_yahoo.csv\n",
      "02/14/2022  02:25 AM             2,898 weather.csv\n",
      "02/14/2022  02:25 AM            11,498 wine.csv\n",
      "              25 File(s)     52,779,877 bytes\n",
      "               2 Dir(s)  31,273,885,696 bytes free\n"
     ]
    },
    {
     "name": "stderr",
     "output_type": "stream",
     "text": [
      "File Not Found\n"
     ]
    }
   ],
   "source": [
    "ls -F ..\\Data    #Don't worry about File not found the answer is correct what is shown, even prof said so\n",
    "\n",
    "#windows uses the \\ slash versus for Mac"
   ]
  },
  {
   "cell_type": "code",
   "execution_count": 5,
   "id": "50ad12bc",
   "metadata": {},
   "outputs": [],
   "source": [
    "import pandas as pd    #Import pandas library and name it pd"
   ]
  },
  {
   "cell_type": "code",
   "execution_count": 6,
   "id": "fedd78dd",
   "metadata": {},
   "outputs": [],
   "source": [
    "df = pd.read_csv('../data/gapminder.tsv', sep='\\t')   #Load tsv data file, separated by Tab. Save the data as df"
   ]
  },
  {
   "cell_type": "code",
   "execution_count": 7,
   "id": "a0d157ef",
   "metadata": {},
   "outputs": [
    {
     "data": {
      "text/plain": [
       "pandas.core.frame.DataFrame"
      ]
     },
     "execution_count": 7,
     "metadata": {},
     "output_type": "execute_result"
    }
   ],
   "source": [
    "type(df)    #Show the object type of df, which is DataFrame here"
   ]
  },
  {
   "cell_type": "code",
   "execution_count": 8,
   "id": "5ec76d47",
   "metadata": {},
   "outputs": [
    {
     "data": {
      "text/html": [
       "<div>\n",
       "<style scoped>\n",
       "    .dataframe tbody tr th:only-of-type {\n",
       "        vertical-align: middle;\n",
       "    }\n",
       "\n",
       "    .dataframe tbody tr th {\n",
       "        vertical-align: top;\n",
       "    }\n",
       "\n",
       "    .dataframe thead th {\n",
       "        text-align: right;\n",
       "    }\n",
       "</style>\n",
       "<table border=\"1\" class=\"dataframe\">\n",
       "  <thead>\n",
       "    <tr style=\"text-align: right;\">\n",
       "      <th></th>\n",
       "      <th>country</th>\n",
       "      <th>continent</th>\n",
       "      <th>year</th>\n",
       "      <th>lifeExp</th>\n",
       "      <th>pop</th>\n",
       "      <th>gdpPercap</th>\n",
       "    </tr>\n",
       "  </thead>\n",
       "  <tbody>\n",
       "    <tr>\n",
       "      <th>0</th>\n",
       "      <td>Afghanistan</td>\n",
       "      <td>Asia</td>\n",
       "      <td>1952</td>\n",
       "      <td>28.801</td>\n",
       "      <td>8425333</td>\n",
       "      <td>779.445314</td>\n",
       "    </tr>\n",
       "    <tr>\n",
       "      <th>1</th>\n",
       "      <td>Afghanistan</td>\n",
       "      <td>Asia</td>\n",
       "      <td>1957</td>\n",
       "      <td>30.332</td>\n",
       "      <td>9240934</td>\n",
       "      <td>820.853030</td>\n",
       "    </tr>\n",
       "    <tr>\n",
       "      <th>2</th>\n",
       "      <td>Afghanistan</td>\n",
       "      <td>Asia</td>\n",
       "      <td>1962</td>\n",
       "      <td>31.997</td>\n",
       "      <td>10267083</td>\n",
       "      <td>853.100710</td>\n",
       "    </tr>\n",
       "    <tr>\n",
       "      <th>3</th>\n",
       "      <td>Afghanistan</td>\n",
       "      <td>Asia</td>\n",
       "      <td>1967</td>\n",
       "      <td>34.020</td>\n",
       "      <td>11537966</td>\n",
       "      <td>836.197138</td>\n",
       "    </tr>\n",
       "    <tr>\n",
       "      <th>4</th>\n",
       "      <td>Afghanistan</td>\n",
       "      <td>Asia</td>\n",
       "      <td>1972</td>\n",
       "      <td>36.088</td>\n",
       "      <td>13079460</td>\n",
       "      <td>739.981106</td>\n",
       "    </tr>\n",
       "    <tr>\n",
       "      <th>...</th>\n",
       "      <td>...</td>\n",
       "      <td>...</td>\n",
       "      <td>...</td>\n",
       "      <td>...</td>\n",
       "      <td>...</td>\n",
       "      <td>...</td>\n",
       "    </tr>\n",
       "    <tr>\n",
       "      <th>1699</th>\n",
       "      <td>Zimbabwe</td>\n",
       "      <td>Africa</td>\n",
       "      <td>1987</td>\n",
       "      <td>62.351</td>\n",
       "      <td>9216418</td>\n",
       "      <td>706.157306</td>\n",
       "    </tr>\n",
       "    <tr>\n",
       "      <th>1700</th>\n",
       "      <td>Zimbabwe</td>\n",
       "      <td>Africa</td>\n",
       "      <td>1992</td>\n",
       "      <td>60.377</td>\n",
       "      <td>10704340</td>\n",
       "      <td>693.420786</td>\n",
       "    </tr>\n",
       "    <tr>\n",
       "      <th>1701</th>\n",
       "      <td>Zimbabwe</td>\n",
       "      <td>Africa</td>\n",
       "      <td>1997</td>\n",
       "      <td>46.809</td>\n",
       "      <td>11404948</td>\n",
       "      <td>792.449960</td>\n",
       "    </tr>\n",
       "    <tr>\n",
       "      <th>1702</th>\n",
       "      <td>Zimbabwe</td>\n",
       "      <td>Africa</td>\n",
       "      <td>2002</td>\n",
       "      <td>39.989</td>\n",
       "      <td>11926563</td>\n",
       "      <td>672.038623</td>\n",
       "    </tr>\n",
       "    <tr>\n",
       "      <th>1703</th>\n",
       "      <td>Zimbabwe</td>\n",
       "      <td>Africa</td>\n",
       "      <td>2007</td>\n",
       "      <td>43.487</td>\n",
       "      <td>12311143</td>\n",
       "      <td>469.709298</td>\n",
       "    </tr>\n",
       "  </tbody>\n",
       "</table>\n",
       "<p>1704 rows × 6 columns</p>\n",
       "</div>"
      ],
      "text/plain": [
       "          country continent  year  lifeExp       pop   gdpPercap\n",
       "0     Afghanistan      Asia  1952   28.801   8425333  779.445314\n",
       "1     Afghanistan      Asia  1957   30.332   9240934  820.853030\n",
       "2     Afghanistan      Asia  1962   31.997  10267083  853.100710\n",
       "3     Afghanistan      Asia  1967   34.020  11537966  836.197138\n",
       "4     Afghanistan      Asia  1972   36.088  13079460  739.981106\n",
       "...           ...       ...   ...      ...       ...         ...\n",
       "1699     Zimbabwe    Africa  1987   62.351   9216418  706.157306\n",
       "1700     Zimbabwe    Africa  1992   60.377  10704340  693.420786\n",
       "1701     Zimbabwe    Africa  1997   46.809  11404948  792.449960\n",
       "1702     Zimbabwe    Africa  2002   39.989  11926563  672.038623\n",
       "1703     Zimbabwe    Africa  2007   43.487  12311143  469.709298\n",
       "\n",
       "[1704 rows x 6 columns]"
      ]
     },
     "execution_count": 8,
     "metadata": {},
     "output_type": "execute_result"
    }
   ],
   "source": [
    "df   #Show data df"
   ]
  },
  {
   "cell_type": "code",
   "execution_count": 9,
   "id": "e6eb612e",
   "metadata": {},
   "outputs": [
    {
     "data": {
      "text/plain": [
       "(1704, 6)"
      ]
     },
     "execution_count": 9,
     "metadata": {},
     "output_type": "execute_result"
    }
   ],
   "source": [
    "df.shape   #get the number of rows and columns"
   ]
  },
  {
   "cell_type": "code",
   "execution_count": 10,
   "id": "4a9f913f",
   "metadata": {},
   "outputs": [
    {
     "data": {
      "text/plain": [
       "Index(['country', 'continent', 'year', 'lifeExp', 'pop', 'gdpPercap'], dtype='object')"
      ]
     },
     "execution_count": 10,
     "metadata": {},
     "output_type": "execute_result"
    }
   ],
   "source": [
    "df.columns  #Get column names"
   ]
  },
  {
   "cell_type": "code",
   "execution_count": 11,
   "id": "c8c4dd01",
   "metadata": {},
   "outputs": [
    {
     "data": {
      "text/plain": [
       "country       object\n",
       "continent     object\n",
       "year           int64\n",
       "lifeExp      float64\n",
       "pop            int64\n",
       "gdpPercap    float64\n",
       "dtype: object"
      ]
     },
     "execution_count": 11,
     "metadata": {},
     "output_type": "execute_result"
    }
   ],
   "source": [
    "df.dtypes   #get the data type of each column"
   ]
  }
 ],
 "metadata": {
  "kernelspec": {
   "display_name": "Python 3 (ipykernel)",
   "language": "python",
   "name": "python3"
  },
  "language_info": {
   "codemirror_mode": {
    "name": "ipython",
    "version": 3
   },
   "file_extension": ".py",
   "mimetype": "text/x-python",
   "name": "python",
   "nbconvert_exporter": "python",
   "pygments_lexer": "ipython3",
   "version": "3.9.7"
  }
 },
 "nbformat": 4,
 "nbformat_minor": 5
}
